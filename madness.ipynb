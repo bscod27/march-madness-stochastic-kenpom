{
 "cells": [
  {
   "cell_type": "code",
   "execution_count": 1,
   "id": "d0616d73",
   "metadata": {},
   "outputs": [],
   "source": [
    "import json\n",
    "import numpy as np\n",
    "import pandas as pd"
   ]
  },
  {
   "cell_type": "code",
   "execution_count": 2,
   "id": "f200d720",
   "metadata": {},
   "outputs": [
    {
     "name": "stdout",
     "output_type": "stream",
     "text": [
      "Choose a lucky number: 27\n"
     ]
    }
   ],
   "source": [
    "df = pd.read_csv('kenpom.csv')\n",
    "seed = int(input('Choose a lucky number: '))\n",
    "np.random.seed(seed) "
   ]
  },
  {
   "cell_type": "code",
   "execution_count": 3,
   "id": "d0832e86",
   "metadata": {},
   "outputs": [],
   "source": [
    "rounds = {\n",
    "    'round64': df['team'].to_list(), \n",
    "    'round32': [], \n",
    "    'sweet16': [], \n",
    "    'elite8': [], \n",
    "    'final4': [], \n",
    "    'final': [], \n",
    "    'champion': []\n",
    "}\n",
    "round_keys = list(rounds.keys())"
   ]
  },
  {
   "cell_type": "code",
   "execution_count": 4,
   "id": "7f843d87",
   "metadata": {},
   "outputs": [],
   "source": [
    "for idx, rd in enumerate(rounds.keys()):  \n",
    "    if rd == 'champion':\n",
    "        break \n",
    "        \n",
    "    temp = rounds[rd].copy()  # Current round teams\n",
    "    next_round = []\n",
    "    \n",
    "    while len(temp) > 0:\n",
    "        # unpack team stats\n",
    "        high_team, low_team = temp.pop(0), temp.pop(0)\n",
    "        high_rk = df.loc[df['team'] == high_team, 'kenpom'].values[0]\n",
    "        low_rk = df.loc[df['team'] == low_team, 'kenpom'].values[0]\n",
    "        # draw from Bernouilli random variable\n",
    "        draw = np.random.binomial(n=1, p=high_rk / (high_rk + low_rk), size=1)\n",
    "        # choose winner and store\n",
    "        winner = high_team if draw == 0 else low_team\n",
    "        next_round.append(winner)\n",
    "\n",
    "    # store next round winners in the subsequent round's list\n",
    "    if idx + 1 < len(round_keys):  # check if there's a next round\n",
    "        rounds[round_keys[idx + 1]] = next_round"
   ]
  },
  {
   "cell_type": "code",
   "execution_count": 5,
   "id": "c354c689",
   "metadata": {},
   "outputs": [],
   "source": [
    "with open('outcomes.json', 'w') as f:\n",
    "    json.dump(rounds, f, indent=4)  "
   ]
  }
 ],
 "metadata": {
  "kernelspec": {
   "display_name": "Python 3 (ipykernel)",
   "language": "python",
   "name": "python3"
  },
  "language_info": {
   "codemirror_mode": {
    "name": "ipython",
    "version": 3
   },
   "file_extension": ".py",
   "mimetype": "text/x-python",
   "name": "python",
   "nbconvert_exporter": "python",
   "pygments_lexer": "ipython3",
   "version": "3.9.7"
  },
  "varInspector": {
   "cols": {
    "lenName": 16,
    "lenType": 16,
    "lenVar": 40
   },
   "kernels_config": {
    "python": {
     "delete_cmd_postfix": "",
     "delete_cmd_prefix": "del ",
     "library": "var_list.py",
     "varRefreshCmd": "print(var_dic_list())"
    },
    "r": {
     "delete_cmd_postfix": ") ",
     "delete_cmd_prefix": "rm(",
     "library": "var_list.r",
     "varRefreshCmd": "cat(var_dic_list()) "
    }
   },
   "position": {
    "height": "321.832px",
    "left": "1375.45px",
    "right": "20px",
    "top": "120px",
    "width": "350px"
   },
   "types_to_exclude": [
    "module",
    "function",
    "builtin_function_or_method",
    "instance",
    "_Feature"
   ],
   "window_display": true
  }
 },
 "nbformat": 4,
 "nbformat_minor": 5
}
